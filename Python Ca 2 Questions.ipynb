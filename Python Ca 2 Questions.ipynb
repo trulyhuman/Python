{
 "cells": [
  {
   "cell_type": "markdown",
   "metadata": {},
   "source": [
    "## Q1. Write a Python program to take 5 lists as an input and sum all the elements of list, if it does notcontain any even elements. In case a particular list contains any even elements then elements of that listshould not be considered in the overall sum of all lists."
   ]
  },
  {
   "cell_type": "code",
   "execution_count": null,
   "metadata": {
    "scrolled": false
   },
   "outputs": [],
   "source": [
    "# Declaring 5 lists inside a list to make the program sort and compact\n",
    "# Each element of the List is a list itself \n",
    "lists = [[], [], [], [], []]  # for dynamic allocation we can also use lists[i].append( [] ) with a for loop\n",
    "total = 0; value = 0; \n",
    "summ  = 0; flag = True\n",
    "limit = int(input('Enter The Limit Of the list = ')) # Number of element in each list \n",
    "\n",
    "for elm in range(0,5): # for iterating through the main list - lists[]\n",
    "    print('\\nEnter The values in List %d '%(elm+1))\n",
    "    \n",
    "    # for iterating through the lists present as elements in the main lists - [[],[],[],[],[]]\n",
    "    for items in range(0, limit):\n",
    "        value = int(input('Enter Element %d in the List -> '%(items+1)))\n",
    "        lists[elm].append(value) # alterantive way - lists[items] = value \n",
    "        summ=summ+value # calculating the sum of the elements of the current list\n",
    "        if (value % 2) == 0: # to check whether list contain even elements\n",
    "            flag = False\n",
    "  \n",
    "    if flag == True: # if list do not contain even element flag will be true\n",
    "        total = total + summ  # calculating the total sum\n",
    "        print('\\nSum Of the elements of the list ',elm+1, '= ', summ)\n",
    "        print('Sum added to the total sum as it does not contain any even element \\n')\n",
    "    else:\n",
    "        print('\\nSum Of the elements of the list ',elm+1, '= ', summ)\n",
    "        print('Sum is not added to the total sum as it does contain even element \\n')\n",
    "    \n",
    "    flag = True # making the flag value to default for the next iteration\n",
    "    summ = 0    # reseting the value of sum to calculate the sum of next list in next iteration\n",
    "    \n",
    "print('Total Sum -> ', total)"
   ]
  },
  {
   "source": [
    "## 2. Write a Python program to find second largest element and second smallest element in a tuple."
   ],
   "cell_type": "markdown",
   "metadata": {}
  },
  {
   "source": [
    "# As tuple is immutable so we can not add data dynamically during runtime into the tuple\n",
    "# Instead of converting it into a list and then find the value and coverting it back to tuple\n",
    "# i am using tuple concatenation to add all the values in a single tuple \n",
    "# i could have done the same by using static tuple but in that case values will remain the same\n",
    "# same code can be done uisng -> list1 = list(tuple1) and then after finding the value converting\n",
    "# it back to the tuple by using -> tuple1 - tuple(list1)\n",
    "# finding largest, smallest second largest and second smallest is much more easier in lists as we \n",
    "# can change the positions of elements in lists or we can also use sorting \n",
    "\n",
    "import sys\n",
    "\n",
    "lar = second_largest = -sys.maxsize-1 # storing the minimum value possible \n",
    "sm =  second_smallest = sys.maxsize   # storing the maximum value possible\n",
    "flag = 1\n",
    "\n",
    "while flag:\n",
    "    limit = int(input('Enter range for tuple ->')) \n",
    "    \n",
    "    if limit < 3:\n",
    "        print('List must contain atleast 3 values to to find second smallest or largest \\n')\n",
    "    else:\n",
    "        flag = 0\n",
    "\n",
    "\n",
    "print('\\n')\n",
    "for j in range(0,limit):\n",
    "    value = int(input('Enter element ->'))\n",
    "            \n",
    "    if j == 0:\n",
    "        tuple1 = ( value, )        \n",
    "    else:                              \n",
    "        tuple2 = ( value, )            \n",
    "        tuple3 = tuple1 + tuple2       \n",
    "        tuple1 = tuple3             \n",
    "\n",
    "# As the tuple is immutable and we are not allowed to use inbuilt function \n",
    "# to find the value first im finding largest and smallest value after that \n",
    "# i am comparing those values to find second largest and smallest\n",
    "\n",
    "for i in range(0,limit): \n",
    "    \n",
    "    # for finding largest the largest value\n",
    "    if tuple1[i] > lar:\n",
    "        second_largest = lar\n",
    "        lar = tuple1[i]\n",
    "    \n",
    "    # finding second largest value by comparing with largest value   \n",
    "    elif tuple1[i] > second_largest and tuple1[i] != lar:\n",
    "        second_largest = tuple1[i]\n",
    "     \n",
    "    #for finding smallest the value   \n",
    "    if tuple1[i] < sm:\n",
    "        second_smallest = sm\n",
    "        sm = tuple1[i]\n",
    "        \n",
    "    # finding second smallest value by comparing with smallest value\n",
    "    elif tuple1[i] < second_smallest and tuple1[i] != sm:\n",
    "        second_smallest = tuple1[i]\n",
    "\n",
    "if lar == sm : \n",
    "    print('\\nNo second highest or second smallest value present in the tuple')\n",
    "    print('Reason -> tuple Contain a single repeated value only')\n",
    "\n",
    "elif sm == second_largest: \n",
    "        print('\\n*Largest Value           -> %d    *'%(lar))\n",
    "        print('* Smallest Value          -> %d    *'%(sm))\n",
    "        print('\\nList contain no second Largest or second Smallest value')\n",
    "        print('Largest and smallest value is repeated in the tuple')\n",
    "    \n",
    "else:\n",
    "    print('\\nTuple -> ',tuple1) \n",
    "    print('\\n***********************************')\n",
    "    print('* Largest Value           -> %d    *'%(lar))\n",
    "    print('* Second largest Value    -> %d    *'%(second_largest))\n",
    "    print('*                                 *')\n",
    "    print('* Smallest Value          -> %d    *'%(sm))\n",
    "    print('* Second Smallest Value   -> %d    *'%(second_smallest))\n",
    "    print('***********************************')"
   ],
   "cell_type": "code",
   "metadata": {},
   "execution_count": null,
   "outputs": []
  },
  {
   "source": [
    "## 3. Write a Python program to get the maximum and minimum value in a dictionary."
   ],
   "cell_type": "markdown",
   "metadata": {}
  },
  {
   "cell_type": "code",
   "execution_count": 12,
   "metadata": {
    "tags": []
   },
   "outputs": [
    {
     "output_type": "stream",
     "name": "stdout",
     "text": "\nEnter details Of student -&gt; 1\n\nEnter details Of student -&gt; 2\n\nEnter details Of student -&gt; 3\n\nEnter details Of student -&gt; 4\n\nStudent with the higest Cgpa is -&gt; \n***********************************\nID     -&gt;  113\nName   -&gt;  Raman\nCourse -&gt;  BCA\nCgpa   -&gt;  9.5\n***********************************\n\nStudent with the lowest Cgpa is -&gt; \n***********************************\nID     -&gt;  111\nName   -&gt;  Nitesh\nCourse -&gt;  BCA\nCgpa   -&gt;  8.0\n***********************************\n"
    }
   ],
   "source": [
    "students_details = {}\n",
    "flag = 1\n",
    "maxx = minn = max_id = min_id = 0\n",
    "while flag:\n",
    "    limit = int(input('Number Of student -> '))\n",
    "    \n",
    "    if limit < 2:\n",
    "        print('Can not be Less Then 2. Please Enter Again')\n",
    "    else:\n",
    "        flag = 0\n",
    "\n",
    "for i in range(0,limit):\n",
    "    print('\\nEnter details Of student -> %d'%(i+1))\n",
    "    s_id = int(input('Enter Id       -> '))\n",
    "    name = input    ('Enter Name     -> ')\n",
    "    course = input  ('Enter Course   -> ')\n",
    "    cgpa = float(input('Enter cgpa     -> '))\n",
    "\n",
    "    students_details[i] = {'ID':s_id,'Name':name,'Course':course,'Cgpa':cgpa}\n",
    "\n",
    "\n",
    "for i in range(0,limit):\n",
    "    \n",
    "    if students_details[i]['Cgpa'] > maxx:\n",
    "        maxx = students_details[i]['Cgpa']\n",
    "        max_id = i\n",
    "        \n",
    "    if students_details[i]['Cgpa'] < minn:\n",
    "        minn = students_details[i]['Cgpa']\n",
    "        min_id = i\n",
    "\n",
    "print('\\nStudent with the higest Cgpa is -> ')\n",
    "print('***********************************')\n",
    "print('ID     -> ',students_details[max_id]['ID'])\n",
    "print('Name   -> ',students_details[max_id]['Name'])\n",
    "print('Course -> ',students_details[max_id]['Course'])\n",
    "print('Cgpa   -> ',students_details[max_id]['Cgpa'])\n",
    "print('***********************************')\n",
    "\n",
    "                \n",
    "print('\\nStudent with the lowest Cgpa is -> ')\n",
    "print('***********************************')\n",
    "print('ID     -> ',students_details[min_id]['ID'])\n",
    "print('Name   -> ',students_details[min_id]['Name'])\n",
    "print('Course -> ',students_details[min_id]['Course'])\n",
    "print('Cgpa   -> ',students_details[min_id]['Cgpa'])\n",
    "print('***********************************')"
   ]
  }
 ],
 "metadata": {
  "kernelspec": {
   "name": "Python 3.8.5 32-bit",
   "display_name": "Python 3.8.5 32-bit",
   "metadata": {
    "interpreter": {
     "hash": "98c15b35245ecdc8b03f65cef943e10afb16f8e20f8ad6c610dbebcca1758bba"
    }
   }
  },
  "language_info": {
   "codemirror_mode": {
    "name": "ipython",
    "version": 3
   },
   "file_extension": ".py",
   "mimetype": "text/x-python",
   "name": "python",
   "nbconvert_exporter": "python",
   "pygments_lexer": "ipython3",
   "version": "3.8.5-final"
  }
 },
 "nbformat": 4,
 "nbformat_minor": 4
}